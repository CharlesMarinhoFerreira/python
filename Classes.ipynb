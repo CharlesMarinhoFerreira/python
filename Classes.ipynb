{
 "cells": [
  {
   "cell_type": "code",
   "execution_count": 52,
   "id": "dddb0c84",
   "metadata": {},
   "outputs": [
    {
     "ename": "TypeError",
     "evalue": "__init__() missing 3 required positional arguments: 'nome', 'funcao', and 'salario'",
     "output_type": "error",
     "traceback": [
      "\u001b[1;31m---------------------------------------------------------------------------\u001b[0m",
      "\u001b[1;31mTypeError\u001b[0m                                 Traceback (most recent call last)",
      "\u001b[1;32m<ipython-input-52-32c81a88fe0e>\u001b[0m in \u001b[0;36m<module>\u001b[1;34m\u001b[0m\n\u001b[0;32m      8\u001b[0m         \u001b[0mprint\u001b[0m\u001b[1;33m(\u001b[0m\u001b[1;34m\"Dados do Funcionário: \\n Nome: %s \\n Funcao: %s \\n Salário: %r\"\u001b[0m \u001b[1;33m%\u001b[0m\u001b[1;33m(\u001b[0m\u001b[0mnome\u001b[0m\u001b[1;33m,\u001b[0m\u001b[0mfuncao\u001b[0m\u001b[1;33m,\u001b[0m\u001b[0msalario\u001b[0m\u001b[1;33m)\u001b[0m\u001b[1;33m)\u001b[0m\u001b[1;33m\u001b[0m\u001b[1;33m\u001b[0m\u001b[0m\n\u001b[0;32m      9\u001b[0m \u001b[1;33m\u001b[0m\u001b[0m\n\u001b[1;32m---> 10\u001b[1;33m \u001b[0mInf\u001b[0m \u001b[1;33m=\u001b[0m \u001b[0mFuncionarios\u001b[0m\u001b[1;33m(\u001b[0m\u001b[1;33m)\u001b[0m\u001b[1;33m\u001b[0m\u001b[1;33m\u001b[0m\u001b[0m\n\u001b[0m\u001b[0;32m     11\u001b[0m \u001b[1;33m\u001b[0m\u001b[0m\n",
      "\u001b[1;31mTypeError\u001b[0m: __init__() missing 3 required positional arguments: 'nome', 'funcao', and 'salario'"
     ]
    }
   ],
   "source": [
    "#Criar uma classe\n",
    "class Funcionarios():\n",
    "    def __init__(self,nome,funcao,salario):\n",
    "        self.nome = nome\n",
    "        self.funcao = funcao\n",
    "        self.salario = salario\n",
    "    def dados(self,nome,funcao,salario):\n",
    "        print(\"Dados do Funcionário: \\n Nome: %s \\n Funcao: %s \\n Salário: %r\" %(nome,funcao,salario))\n",
    "\n",
    "\n",
    "\n"
   ]
  },
  {
   "cell_type": "code",
   "execution_count": 56,
   "id": "d24ffbc8",
   "metadata": {},
   "outputs": [],
   "source": [
    "#Criando uma instancia da classe funcionarios\n",
    "Inf = Funcionarios(\"Charles\", \"Técnico de Planejamento\", 4500.00)"
   ]
  },
  {
   "cell_type": "code",
   "execution_count": 60,
   "id": "1f81ce8e",
   "metadata": {},
   "outputs": [
    {
     "name": "stdout",
     "output_type": "stream",
     "text": [
      "Dados do Funcionário: \n",
      " Nome: Charles Marinho \n",
      " Funcao: Técnico de Planejamento \n",
      " Salário: 4500.0\n"
     ]
    }
   ],
   "source": [
    "#Utilizando o metodo dados da classe funcionario\n",
    "inf.dados(\"Charles Marinho\", \"Técnico de Planejamento\", 4500.00)\n"
   ]
  },
  {
   "cell_type": "code",
   "execution_count": null,
   "id": "24ad9c94",
   "metadata": {},
   "outputs": [],
   "source": []
  }
 ],
 "metadata": {
  "kernelspec": {
   "display_name": "Python 3",
   "language": "python",
   "name": "python3"
  },
  "language_info": {
   "codemirror_mode": {
    "name": "ipython",
    "version": 3
   },
   "file_extension": ".py",
   "mimetype": "text/x-python",
   "name": "python",
   "nbconvert_exporter": "python",
   "pygments_lexer": "ipython3",
   "version": "3.8.8"
  }
 },
 "nbformat": 4,
 "nbformat_minor": 5
}
