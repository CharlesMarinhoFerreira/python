{
 "cells": [
  {
   "cell_type": "markdown",
   "id": "42f6de67",
   "metadata": {},
   "source": [
    "String"
   ]
  },
  {
   "cell_type": "code",
   "execution_count": null,
   "id": "4e90dcab",
   "metadata": {},
   "outputs": [],
   "source": [
    "#Mensagem de Texto"
   ]
  },
  {
   "cell_type": "code",
   "execution_count": 14,
   "id": "4743d5e7",
   "metadata": {},
   "outputs": [
    {
     "name": "stdout",
     "output_type": "stream",
     "text": [
      "mensagem\n"
     ]
    }
   ],
   "source": [
    "print (\"mensagem\")"
   ]
  },
  {
   "cell_type": "code",
   "execution_count": 16,
   "id": "ff6386ce",
   "metadata": {},
   "outputs": [
    {
     "name": "stdout",
     "output_type": "stream",
     "text": [
      "Primeiro Código\n"
     ]
    }
   ],
   "source": [
    "#Indexando um Texto\n",
    "mensagem = 'Primeiro Código'\n",
    "print(mensagem)"
   ]
  },
  {
   "cell_type": "code",
   "execution_count": 27,
   "id": "c994bbea",
   "metadata": {},
   "outputs": [
    {
     "name": "stdout",
     "output_type": "stream",
     "text": [
      "P\n",
      "rimeiro Código\n",
      "Pr\n",
      "Primeiro Códig\n",
      "go\n",
      "Pier óio\n"
     ]
    }
   ],
   "source": [
    "#Busca o primeiro caracter da string\n",
    "print(mensagem[0])\n",
    "#Busca a string a partir da segunda string\n",
    "print(mensagem[1:])\n",
    "#Busca os primeiros 2 caracteres da string\n",
    "print(mensagem[:2])\n",
    "#Busca toda a string menos o ultimo caracter\n",
    "print(mensagem[:-1])\n",
    "#Busca apenas os dois ultimos caracteres da string\n",
    "print(mensagem[-2:])\n",
    "#Pula em 2 em 2 caracteres da string\n",
    "print(mensagem[::2])"
   ]
  },
  {
   "cell_type": "code",
   "execution_count": 37,
   "id": "745652bf",
   "metadata": {},
   "outputs": [
    {
     "name": "stdout",
     "output_type": "stream",
     "text": [
      "Primeiro Código de Python\n"
     ]
    }
   ],
   "source": [
    "#Concatenar caracteres da String\n",
    "x = mensagem + \" de Python\"\n",
    "print(x)"
   ]
  },
  {
   "cell_type": "code",
   "execution_count": 38,
   "id": "881052dc",
   "metadata": {},
   "outputs": [
    {
     "data": {
      "text/plain": [
       "'PRIMEIRO CÓDIGO'"
      ]
     },
     "execution_count": 38,
     "metadata": {},
     "output_type": "execute_result"
    }
   ],
   "source": [
    "#Transformar todos os caracters de uma string em maiusculo\n",
    "mensagem.upper()"
   ]
  },
  {
   "cell_type": "code",
   "execution_count": 40,
   "id": "b0bb17fe",
   "metadata": {},
   "outputs": [
    {
     "data": {
      "text/plain": [
       "'primeiro código'"
      ]
     },
     "execution_count": 40,
     "metadata": {},
     "output_type": "execute_result"
    }
   ],
   "source": [
    "##Transformar todos os caracters de uma string em minusculo\n",
    "mensagem.lower()"
   ]
  },
  {
   "cell_type": "code",
   "execution_count": 43,
   "id": "02357fdc",
   "metadata": {},
   "outputs": [
    {
     "data": {
      "text/plain": [
       "['P', 'imei', 'o Código']"
      ]
     },
     "execution_count": 43,
     "metadata": {},
     "output_type": "execute_result"
    }
   ],
   "source": [
    "#Divide uma string sempre quando tem um espaço\n",
    "mensagem.split()\n",
    "#Divide uma string até o caracter especificado na função\n",
    "mensagem.split('r')"
   ]
  },
  {
   "cell_type": "code",
   "execution_count": 45,
   "id": "1131eae8",
   "metadata": {},
   "outputs": [
    {
     "data": {
      "text/plain": [
       "'Primeiro código'"
      ]
     },
     "execution_count": 45,
     "metadata": {},
     "output_type": "execute_result"
    }
   ],
   "source": [
    "#Transforma apenas a primeira letra do caracter\n",
    "mensagem.capitalize()"
   ]
  },
  {
   "cell_type": "code",
   "execution_count": 47,
   "id": "f8b0b038",
   "metadata": {},
   "outputs": [
    {
     "data": {
      "text/plain": [
       "2"
      ]
     },
     "execution_count": 47,
     "metadata": {},
     "output_type": "execute_result"
    }
   ],
   "source": [
    "#Contar quantas vezes um carecter aparece na string\n",
    "mensagem.count('o')"
   ]
  },
  {
   "cell_type": "code",
   "execution_count": 48,
   "id": "59c5f353",
   "metadata": {},
   "outputs": [
    {
     "data": {
      "text/plain": [
       "11"
      ]
     },
     "execution_count": 48,
     "metadata": {},
     "output_type": "execute_result"
    }
   ],
   "source": [
    "#Busca a posicão do caracter dentro da string\n",
    "mensagem.find('d')"
   ]
  },
  {
   "cell_type": "code",
   "execution_count": 51,
   "id": "0131ccff",
   "metadata": {},
   "outputs": [
    {
     "data": {
      "text/plain": [
       "False"
      ]
     },
     "execution_count": 51,
     "metadata": {},
     "output_type": "execute_result"
    }
   ],
   "source": [
    "#Informar se a string tem caracter minusculo\n",
    "mensagem.islower()\n",
    "\n"
   ]
  },
  {
   "cell_type": "code",
   "execution_count": 53,
   "id": "1188bc58",
   "metadata": {},
   "outputs": [
    {
     "data": {
      "text/plain": [
       "False"
      ]
     },
     "execution_count": 53,
     "metadata": {},
     "output_type": "execute_result"
    }
   ],
   "source": [
    "#Verificar se a string é espaço\n",
    "mensagem.isspace()"
   ]
  },
  {
   "cell_type": "code",
   "execution_count": 54,
   "id": "dc214a05",
   "metadata": {},
   "outputs": [
    {
     "data": {
      "text/plain": [
       "True"
      ]
     },
     "execution_count": 54,
     "metadata": {},
     "output_type": "execute_result"
    }
   ],
   "source": [
    "#Verifica se a string terminar com caracter especificado na função\n",
    "mensagem.endswith('o')"
   ]
  },
  {
   "cell_type": "code",
   "execution_count": null,
   "id": "e690394a",
   "metadata": {},
   "outputs": [],
   "source": []
  }
 ],
 "metadata": {
  "kernelspec": {
   "display_name": "Python 3",
   "language": "python",
   "name": "python3"
  },
  "language_info": {
   "codemirror_mode": {
    "name": "ipython",
    "version": 3
   },
   "file_extension": ".py",
   "mimetype": "text/x-python",
   "name": "python",
   "nbconvert_exporter": "python",
   "pygments_lexer": "ipython3",
   "version": "3.8.8"
  }
 },
 "nbformat": 4,
 "nbformat_minor": 5
}
