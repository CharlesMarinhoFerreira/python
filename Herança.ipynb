{
 "cells": [
  {
   "cell_type": "code",
   "execution_count": 50,
   "id": "8caf887c",
   "metadata": {},
   "outputs": [
    {
     "name": "stdout",
     "output_type": "stream",
     "text": [
      "Dados do Funcionário: \n",
      " Departamento: Comissionamento \n",
      " Nome: C \n",
      " Funcao: T \n",
      " Salário: 2.00\n"
     ]
    }
   ],
   "source": [
    "#Criação da Classe Master\n",
    "class Departamento():\n",
    "    def disciplinas(self,nome_dep):\n",
    "        self.nome_dep = nome_dep\n",
    "        print(\"Nome do Departamento: %s\" %(nome_dep) )\n",
    "\n",
    "#Criação da Sub-Classe Funcionarios que recebe herança os metodos da classe Departamento\n",
    "class Funcionario(Departamento):\n",
    "    \n",
    "    def __init__(self,nome_dep, nome_func,funcao,salario):\n",
    "        self.nome_func = nome_func\n",
    "        self.funcao = funcao\n",
    "        self.salario = salario\n",
    "        self.nome_dep = nome_dep\n",
    "        \n",
    "    def dados(self,nome_dep,nome_func,funcao,salario):    \n",
    "        print(\"Dados do Funcionário: \\n Departamento: %s \\n Nome: %s \\n Funcao: %s \\n Salário: %.2f\" %(nome_dep,nome_func,funcao,round(salario)))\n",
    "\n",
    "func = Funcionario(\"Comissionamento\",\"C\",\"T\",2)\n",
    "func.dados(\"Comissionamento\",\"C\",\"T\",2)\n",
    "\n"
   ]
  },
  {
   "cell_type": "code",
   "execution_count": null,
   "id": "18b36848",
   "metadata": {},
   "outputs": [],
   "source": []
  }
 ],
 "metadata": {
  "kernelspec": {
   "display_name": "Python 3",
   "language": "python",
   "name": "python3"
  },
  "language_info": {
   "codemirror_mode": {
    "name": "ipython",
    "version": 3
   },
   "file_extension": ".py",
   "mimetype": "text/x-python",
   "name": "python",
   "nbconvert_exporter": "python",
   "pygments_lexer": "ipython3",
   "version": "3.8.8"
  }
 },
 "nbformat": 4,
 "nbformat_minor": 5
}
