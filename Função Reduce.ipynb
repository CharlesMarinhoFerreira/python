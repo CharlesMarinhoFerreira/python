{
 "cells": [
  {
   "cell_type": "markdown",
   "id": "475a20c7",
   "metadata": {},
   "source": [
    "Função REDUCE (Reduz a um só valor dentro de uma lista\n"
   ]
  },
  {
   "cell_type": "code",
   "execution_count": 3,
   "id": "123b1379",
   "metadata": {},
   "outputs": [
    {
     "data": {
      "text/plain": [
       "2"
      ]
     },
     "execution_count": 3,
     "metadata": {},
     "output_type": "execute_result"
    }
   ],
   "source": [
    "#Importa a função reduce dentro do modulo functools\n",
    "from functools import reduce\n",
    "\n",
    "#Utilização da função reduce\n",
    "lista = [3,7,10,12,2,70,36]\n",
    "\n",
    "#Buscar o menor valor dentro da lista\n",
    "menor = lambda x,y: x if x<y else y\n",
    "reduce(menor,lista)\n"
   ]
  },
  {
   "cell_type": "code",
   "execution_count": null,
   "id": "bd301024",
   "metadata": {},
   "outputs": [],
   "source": []
  }
 ],
 "metadata": {
  "kernelspec": {
   "display_name": "Python 3",
   "language": "python",
   "name": "python3"
  },
  "language_info": {
   "codemirror_mode": {
    "name": "ipython",
    "version": 3
   },
   "file_extension": ".py",
   "mimetype": "text/x-python",
   "name": "python",
   "nbconvert_exporter": "python",
   "pygments_lexer": "ipython3",
   "version": "3.8.8"
  }
 },
 "nbformat": 4,
 "nbformat_minor": 5
}
