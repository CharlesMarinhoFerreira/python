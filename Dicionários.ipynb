{
 "cells": [
  {
   "cell_type": "markdown",
   "id": "d86c9fa9",
   "metadata": {},
   "source": [
    "Dicionários"
   ]
  },
  {
   "cell_type": "code",
   "execution_count": 1,
   "id": "081aa06f",
   "metadata": {},
   "outputs": [
    {
     "data": {
      "text/plain": [
       "{'Flamengo': 15, 'Fluminense': 7, 'Vasco': 12, 'Botafogo': 3}"
      ]
     },
     "execution_count": 1,
     "metadata": {},
     "output_type": "execute_result"
    }
   ],
   "source": [
    "#Criando um dicionário\n",
    "titulos = {\"Flamengo\":15,\"Fluminense\":7,\"Vasco\":12,\"Botafogo\":3}\n",
    "titulos"
   ]
  },
  {
   "cell_type": "code",
   "execution_count": 2,
   "id": "bf943818",
   "metadata": {},
   "outputs": [
    {
     "data": {
      "text/plain": [
       "15"
      ]
     },
     "execution_count": 2,
     "metadata": {},
     "output_type": "execute_result"
    }
   ],
   "source": [
    "#Mostra um valor de uma chave\n",
    "titulos[\"Flamengo\"]"
   ]
  },
  {
   "cell_type": "code",
   "execution_count": 3,
   "id": "35ea4c2a",
   "metadata": {},
   "outputs": [],
   "source": [
    "#Limpar as chaves de um dicionário"
   ]
  },
  {
   "cell_type": "code",
   "execution_count": 5,
   "id": "e3318421",
   "metadata": {},
   "outputs": [
    {
     "data": {
      "text/plain": [
       "{}"
      ]
     },
     "execution_count": 5,
     "metadata": {},
     "output_type": "execute_result"
    }
   ],
   "source": [
    "titulos.clear()\n",
    "titulos\n"
   ]
  },
  {
   "cell_type": "code",
   "execution_count": 6,
   "id": "bafd9adb",
   "metadata": {},
   "outputs": [],
   "source": [
    "titulos = {\"Flamengo\":15,\"Fluminense\":7,\"Vasco\":12,\"Botafogo\":3}"
   ]
  },
  {
   "cell_type": "code",
   "execution_count": 7,
   "id": "a6803968",
   "metadata": {},
   "outputs": [
    {
     "data": {
      "text/plain": [
       "4"
      ]
     },
     "execution_count": 7,
     "metadata": {},
     "output_type": "execute_result"
    }
   ],
   "source": [
    "#Contar a quantidades de chaves de um dicionário\n",
    "len(titulos)"
   ]
  },
  {
   "cell_type": "code",
   "execution_count": 8,
   "id": "14f88d91",
   "metadata": {},
   "outputs": [
    {
     "data": {
      "text/plain": [
       "dict_keys(['Flamengo', 'Fluminense', 'Vasco', 'Botafogo'])"
      ]
     },
     "execution_count": 8,
     "metadata": {},
     "output_type": "execute_result"
    }
   ],
   "source": [
    "#Extrair apenas as chaves do dicionário\n",
    "titulos.keys()"
   ]
  },
  {
   "cell_type": "code",
   "execution_count": 9,
   "id": "0b3961c8",
   "metadata": {},
   "outputs": [
    {
     "data": {
      "text/plain": [
       "dict_values([15, 7, 12, 3])"
      ]
     },
     "execution_count": 9,
     "metadata": {},
     "output_type": "execute_result"
    }
   ],
   "source": [
    "#Extrair apenas os valores das chaves do dicionário\n",
    "titulos.values()"
   ]
  },
  {
   "cell_type": "code",
   "execution_count": 10,
   "id": "389a7c00",
   "metadata": {},
   "outputs": [
    {
     "data": {
      "text/plain": [
       "dict_items([('Flamengo', 15), ('Fluminense', 7), ('Vasco', 12), ('Botafogo', 3)])"
      ]
     },
     "execution_count": 10,
     "metadata": {},
     "output_type": "execute_result"
    }
   ],
   "source": [
    "#Retornar todos os itens do dicionário\n",
    "titulos.items()"
   ]
  },
  {
   "cell_type": "code",
   "execution_count": 15,
   "id": "f32b5e8a",
   "metadata": {},
   "outputs": [
    {
     "data": {
      "text/plain": [
       "{'Flamengo': 15,\n",
       " 'Fluminense': 7,\n",
       " 'Vasco': 12,\n",
       " 'Botafogo': 3,\n",
       " 'São Paulo': 20,\n",
       " 'Santos': 18,\n",
       " 'Corinthians': 19,\n",
       " 'Palmeiras': 23}"
      ]
     },
     "execution_count": 15,
     "metadata": {},
     "output_type": "execute_result"
    }
   ],
   "source": [
    "#Adicionar itens de um dicionário em outro dicionário\n",
    "titulossp = {\"São Paulo\": 20, \"Santos\":18, \"Corinthians\":19, \"Palmeiras\":23}\n",
    "titulos.update(titulossp)\n",
    "titulos"
   ]
  },
  {
   "cell_type": "code",
   "execution_count": 19,
   "id": "71574b8c",
   "metadata": {},
   "outputs": [
    {
     "data": {
      "text/plain": [
       "{}"
      ]
     },
     "execution_count": 19,
     "metadata": {},
     "output_type": "execute_result"
    }
   ],
   "source": [
    "#Criar um dicionário vazio\n",
    "titulospais = {}\n",
    "titulospais"
   ]
  },
  {
   "cell_type": "code",
   "execution_count": 21,
   "id": "5baa70e8",
   "metadata": {},
   "outputs": [
    {
     "data": {
      "text/plain": [
       "{'Flamengo': 'Brasil'}"
      ]
     },
     "execution_count": 21,
     "metadata": {},
     "output_type": "execute_result"
    }
   ],
   "source": [
    "#Adcionar um item no dicionário\n",
    "titulospais[\"Flamengo\"]=\"Brasil\"\n",
    "titulospais"
   ]
  },
  {
   "cell_type": "code",
   "execution_count": 43,
   "id": "2b4a4e70",
   "metadata": {},
   "outputs": [
    {
     "data": {
      "text/plain": [
       "{'Brasil': [[1958], [1962], [1970], [1994], [2002]],\n",
       " 'Argentina': [[1978], [1982]],\n",
       " 'Uruguai': [[1930], [1950]]}"
      ]
     },
     "execution_count": 43,
     "metadata": {},
     "output_type": "execute_result"
    }
   ],
   "source": [
    "#Criar uma lista dentro de um dicionário\n",
    "titulosanos = {\"Brasil\":[[1958],[1962],[1970],[1994],[2002]], \"Argentina\":[[1978],[1982]],\"Uruguai\":[[1930],[1950]]}\n",
    "titulosanos"
   ]
  },
  {
   "cell_type": "code",
   "execution_count": 33,
   "id": "ef8c3676",
   "metadata": {},
   "outputs": [
    {
     "data": {
      "text/plain": [
       "[1970]"
      ]
     },
     "execution_count": 33,
     "metadata": {},
     "output_type": "execute_result"
    }
   ],
   "source": [
    "#Buscar o elemento do indice 1 da lista da chave Brasil do dicionário titulosanos\n",
    "titulosanos[\"Brasil\"][2]"
   ]
  },
  {
   "cell_type": "code",
   "execution_count": null,
   "id": "278f7488",
   "metadata": {},
   "outputs": [],
   "source": []
  }
 ],
 "metadata": {
  "kernelspec": {
   "display_name": "Python 3",
   "language": "python",
   "name": "python3"
  },
  "language_info": {
   "codemirror_mode": {
    "name": "ipython",
    "version": 3
   },
   "file_extension": ".py",
   "mimetype": "text/x-python",
   "name": "python",
   "nbconvert_exporter": "python",
   "pygments_lexer": "ipython3",
   "version": "3.8.8"
  }
 },
 "nbformat": 4,
 "nbformat_minor": 5
}
