{
 "cells": [
  {
   "cell_type": "markdown",
   "id": "66a74b87",
   "metadata": {},
   "source": [
    "Entrar com valores na Tela e Placeholders"
   ]
  },
  {
   "cell_type": "code",
   "execution_count": 15,
   "id": "5d6cb399",
   "metadata": {},
   "outputs": [
    {
     "name": "stdout",
     "output_type": "stream",
     "text": [
      "Entre com o nome do usuário: A\n",
      "Entre com o nome da Disciplina: B\n",
      "Entre com a nota do usuário: 4\n",
      "Usuário Reprovado\n",
      "Dados do Usuário: A, B, Nota: '4', Status: Reprovado\n"
     ]
    }
   ],
   "source": [
    "nome = input('Entre com o nome do usuário: ')\n",
    "disciplina = input('Entre com o nome da Disciplina: ')\n",
    "nota = input('Entre com a nota do usuário: ')\n",
    "\n",
    "\n",
    "if (int(nota)>=7) and (int(nota)<10):\n",
    "    print(\"Usuário Aprovado\")\n",
    "    status = \"Aprovado\"\n",
    "elif (int(nota)>=5) and  (int(nota)<7):\n",
    "    print(\"Usuario em Recuperação\")\n",
    "    status = \"Recuperação\"\n",
    "else:\n",
    "    print(\"Usuário Reprovado\")\n",
    "    status = \"Reprovado\"\n",
    "    \n",
    "print('Dados do Usuário: %s, %s, Nota: %r, Status: %s' %(nome,disciplina,nota,status))    \n",
    "    "
   ]
  },
  {
   "cell_type": "code",
   "execution_count": null,
   "id": "e9c20cd7",
   "metadata": {},
   "outputs": [],
   "source": []
  },
  {
   "cell_type": "code",
   "execution_count": null,
   "id": "ae22f245",
   "metadata": {},
   "outputs": [],
   "source": []
  },
  {
   "cell_type": "code",
   "execution_count": null,
   "id": "f7e1dea9",
   "metadata": {},
   "outputs": [],
   "source": []
  }
 ],
 "metadata": {
  "kernelspec": {
   "display_name": "Python 3",
   "language": "python",
   "name": "python3"
  },
  "language_info": {
   "codemirror_mode": {
    "name": "ipython",
    "version": 3
   },
   "file_extension": ".py",
   "mimetype": "text/x-python",
   "name": "python",
   "nbconvert_exporter": "python",
   "pygments_lexer": "ipython3",
   "version": "3.8.8"
  }
 },
 "nbformat": 4,
 "nbformat_minor": 5
}
