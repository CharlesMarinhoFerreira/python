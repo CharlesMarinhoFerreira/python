{
 "cells": [
  {
   "cell_type": "markdown",
   "id": "2465c4ef",
   "metadata": {},
   "source": [
    "Calculadora em Python"
   ]
  },
  {
   "cell_type": "code",
   "execution_count": null,
   "id": "c1298bdd",
   "metadata": {},
   "outputs": [],
   "source": [
    "x = 0\n",
    "print(\"Selecione o número da operação desejada:\")\n",
    "print(\"1-Soma\")\n",
    "print(\"2-Subtração\")\n",
    "print(\"3-Multiplicação\")\n",
    "print(\"4-Divisão\")\n",
    "\n",
    "opcao = int(input(\"Digite sua opção (1/2/3/4)):\"))\n",
    "\n",
    "def soma(a,b):\n",
    "    x = a+b\n",
    "    return x;\n",
    "    \n",
    "def subtracao(a,b):\n",
    "    x = a-b\n",
    "    return x;\n",
    "\n",
    "def multiplicacao(a,b):\n",
    "    x = a*b\n",
    "    return x;\n",
    "\n",
    "def divisao(a,b):\n",
    "    x = a/b\n",
    "    return x;\n",
    "    \n",
    "primeiro = int(input(\"Digite o primeiro número:\"))\n",
    "segundo = int(input(\"Digite o segundo número:\"))\n",
    "\n",
    "if opcao == 1:    \n",
    "    print(\"Resultado: %r + %r = %r\" %(primeiro,segundo,soma(primeiro,segundo)))   \n",
    "\n",
    "elif opcao == 2:\n",
    "    \n",
    "    print(\"Resultado: %r - %r = %r\" %(primeiro,segundo,subtracao(primeiro,segundo)))   \n",
    "\n",
    "elif opcao == 3:\n",
    "   \n",
    "    print(\"Resultado: %r * %r = %r\" %(primeiro,segundo,multiplicacao(primeiro,segundo))) \n",
    "          \n",
    "elif opcao == 4:\n",
    "    \n",
    "    print(\"Resultado: %r / %r = %r\" %(primeiro,segundo,divisao(primeiro,segundo))) \n"
   ]
  },
  {
   "cell_type": "code",
   "execution_count": null,
   "id": "5b2712ca",
   "metadata": {},
   "outputs": [],
   "source": []
  },
  {
   "cell_type": "code",
   "execution_count": null,
   "id": "695a2d84",
   "metadata": {},
   "outputs": [],
   "source": []
  }
 ],
 "metadata": {
  "kernelspec": {
   "display_name": "Python 3",
   "language": "python",
   "name": "python3"
  },
  "language_info": {
   "codemirror_mode": {
    "name": "ipython",
    "version": 3
   },
   "file_extension": ".py",
   "mimetype": "text/x-python",
   "name": "python",
   "nbconvert_exporter": "python",
   "pygments_lexer": "ipython3",
   "version": "3.8.8"
  }
 },
 "nbformat": 4,
 "nbformat_minor": 5
}
