{
 "cells": [
  {
   "cell_type": "markdown",
   "id": "a186ce90",
   "metadata": {},
   "source": [
    "Exercício - 01 (Lista, Tuplas e Dicionarios)"
   ]
  },
  {
   "cell_type": "code",
   "execution_count": 1,
   "id": "f79f5f4b",
   "metadata": {},
   "outputs": [
    {
     "data": {
      "text/plain": [
       "[1, 2, 3, 4, 5, 6, 7, 8, 9, 10]"
      ]
     },
     "execution_count": 1,
     "metadata": {},
     "output_type": "execute_result"
    }
   ],
   "source": [
    "#Imprimir os numeros de 1 a 10 de uma lista\n",
    "lista = [1,2,3,4,5,6,7,8,9,10]\n",
    "lista"
   ]
  },
  {
   "cell_type": "code",
   "execution_count": 2,
   "id": "b2f8a117",
   "metadata": {},
   "outputs": [
    {
     "data": {
      "text/plain": [
       "['Charles', 'Ariana', 'Jorge', 'Claudia', 'João']"
      ]
     },
     "execution_count": 2,
     "metadata": {},
     "output_type": "execute_result"
    }
   ],
   "source": [
    "#Imprimir 5 objetos dentro de uma lista\n",
    "lista2 = [\"Charles\", \"Ariana\", \"Jorge\", \"Claudia\", \"João\"]\n",
    "lista2"
   ]
  },
  {
   "cell_type": "code",
   "execution_count": 5,
   "id": "24335cfc",
   "metadata": {},
   "outputs": [
    {
     "data": {
      "text/plain": [
       "'Charles Marinho'"
      ]
     },
     "execution_count": 5,
     "metadata": {},
     "output_type": "execute_result"
    }
   ],
   "source": [
    "# Exercício 3 - Crie duas strings e concatene as duas em uma terceira string\n",
    "nome = \"Charles\"\n",
    "sobrenome = \"Marinho\"\n",
    "nomecompleto = nome + \" \" + sobrenome\n",
    "nomecompleto"
   ]
  },
  {
   "cell_type": "code",
   "execution_count": 6,
   "id": "89884d04",
   "metadata": {},
   "outputs": [
    {
     "data": {
      "text/plain": [
       "3"
      ]
     },
     "execution_count": 6,
     "metadata": {},
     "output_type": "execute_result"
    }
   ],
   "source": [
    "# Exercício 4 - Crie uma tupla com os seguintes elementos: 1, 2, 2, 3, 4, 4, 4, 5 e depois utilize a função count do \n",
    "# objeto tupla para verificar quantas vezes o número 4 aparece na tupla\n",
    "tupla = (1,2,2,3,4,4,4,5)\n",
    "tupla.count(4)"
   ]
  },
  {
   "cell_type": "code",
   "execution_count": 7,
   "id": "42b8af9b",
   "metadata": {},
   "outputs": [
    {
     "data": {
      "text/plain": [
       "{}"
      ]
     },
     "execution_count": 7,
     "metadata": {},
     "output_type": "execute_result"
    }
   ],
   "source": [
    "# Exercício 5 - Crie um dicionário vazio e imprima na tela\n",
    "dicionariovazio = {}\n",
    "dicionariovazio"
   ]
  },
  {
   "cell_type": "code",
   "execution_count": 8,
   "id": "be8bcd85",
   "metadata": {},
   "outputs": [
    {
     "data": {
      "text/plain": [
       "{'Flamengo': 'Brasil', 'Boca Junior': 'Argentina', 'Nacional': 'Uruguai'}"
      ]
     },
     "execution_count": 8,
     "metadata": {},
     "output_type": "execute_result"
    }
   ],
   "source": [
    "# Exercício 6 - Crie um dicionário com 3 chaves e 3 valores e imprima na tela\n",
    "dicionariotimes = {\"Flamengo\":\"Brasil\",\"Boca Junior\":\"Argentina\",\"Nacional\":\"Uruguai\"}\n",
    "dicionariotimes"
   ]
  },
  {
   "cell_type": "code",
   "execution_count": 12,
   "id": "d15fbf01",
   "metadata": {},
   "outputs": [
    {
     "data": {
      "text/plain": [
       "{'Flamengo': 'Brasil',\n",
       " 'Boca Junior': 'Argentina',\n",
       " 'Nacional': 'Uruguai',\n",
       " 'Olimpia': 'Paraguai'}"
      ]
     },
     "execution_count": 12,
     "metadata": {},
     "output_type": "execute_result"
    }
   ],
   "source": [
    "# Exercício 7 - Adicione mais um elemento ao dicionário criado no exercício anterior e imprima na tela\n",
    "paraguai = {\"Olimpia\":\"Paraguai\"}\n",
    "dicionariotimes.update(paraguai)\n",
    "dicionariotimes\n"
   ]
  },
  {
   "cell_type": "code",
   "execution_count": 15,
   "id": "3ff1772a",
   "metadata": {},
   "outputs": [
    {
     "data": {
      "text/plain": [
       "{'Consoante': 'B', 'Numero': [2, 3], 'Vogal': 'A'}"
      ]
     },
     "execution_count": 15,
     "metadata": {},
     "output_type": "execute_result"
    }
   ],
   "source": [
    "# Exercício 8 - Crie um dicionário com 3 chaves e 3 valores. Um dos valores deve ser uma lista de 2 elementos numéricos. \n",
    "# Imprima o dicionário na tela.\n",
    "dicionario = {\"Consoante\":\"B\",\"Numero\":[2,3],\"Vogal\":\"A\"}\n",
    "dicionario"
   ]
  },
  {
   "cell_type": "code",
   "execution_count": 17,
   "id": "91b17517",
   "metadata": {},
   "outputs": [
    {
     "data": {
      "text/plain": [
       "['Nomes', (4, 5), {'Charles': 40, 'Ariana': 32}, 4.2]"
      ]
     },
     "execution_count": 17,
     "metadata": {},
     "output_type": "execute_result"
    }
   ],
   "source": [
    "# Exercício 9 - Crie uma lista de 4 elementos. O primeiro elemento deve ser uma string, \n",
    "# o segundo uma tupla de 2 elementos, o terceiro um dcionário com 2 chaves e 2 valores e \n",
    "# o quarto elemento um valor do tipo float.\n",
    "# Imprima a lista na tela.\n",
    "lista3 = [\"Nomes\", (4,5), {\"Charles\":40,\"Ariana\":32},4.2]\n",
    "lista3"
   ]
  },
  {
   "cell_type": "code",
   "execution_count": 18,
   "id": "0dbf2f12",
   "metadata": {},
   "outputs": [
    {
     "data": {
      "text/plain": [
       "'ientista de Dados'"
      ]
     },
     "execution_count": 18,
     "metadata": {},
     "output_type": "execute_result"
    }
   ],
   "source": [
    "# Exercício 10 - Considere a string abaixo. Imprima na tela apenas os caracteres da posição 1 a 18.\n",
    "frase = 'Cientista de Dados é o profissional mais sexy do século XXI'\n",
    "frase[1:18]"
   ]
  },
  {
   "cell_type": "code",
   "execution_count": null,
   "id": "0f951824",
   "metadata": {},
   "outputs": [],
   "source": []
  }
 ],
 "metadata": {
  "kernelspec": {
   "display_name": "Python 3",
   "language": "python",
   "name": "python3"
  },
  "language_info": {
   "codemirror_mode": {
    "name": "ipython",
    "version": 3
   },
   "file_extension": ".py",
   "mimetype": "text/x-python",
   "name": "python",
   "nbconvert_exporter": "python",
   "pygments_lexer": "ipython3",
   "version": "3.8.8"
  }
 },
 "nbformat": 4,
 "nbformat_minor": 5
}
