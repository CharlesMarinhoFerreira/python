{
 "cells": [
  {
   "cell_type": "markdown",
   "id": "454bbd54",
   "metadata": {},
   "source": [
    "Tuplas\n",
    "- Tuplas são imutaveis não podem ser alteradas"
   ]
  },
  {
   "cell_type": "code",
   "execution_count": 1,
   "id": "e0e35c80",
   "metadata": {},
   "outputs": [
    {
     "data": {
      "text/plain": [
       "('Charles', 'Ariana', 'Camile')"
      ]
     },
     "execution_count": 1,
     "metadata": {},
     "output_type": "execute_result"
    }
   ],
   "source": [
    "#Criando uma tupla\n",
    "nomes = ('Charles', 'Ariana', 'Camile')\n",
    "nomes"
   ]
  },
  {
   "cell_type": "code",
   "execution_count": null,
   "id": "988781ee",
   "metadata": {},
   "outputs": [],
   "source": []
  }
 ],
 "metadata": {
  "kernelspec": {
   "display_name": "Python 3",
   "language": "python",
   "name": "python3"
  },
  "language_info": {
   "codemirror_mode": {
    "name": "ipython",
    "version": 3
   },
   "file_extension": ".py",
   "mimetype": "text/x-python",
   "name": "python",
   "nbconvert_exporter": "python",
   "pygments_lexer": "ipython3",
   "version": "3.8.8"
  }
 },
 "nbformat": 4,
 "nbformat_minor": 5
}
