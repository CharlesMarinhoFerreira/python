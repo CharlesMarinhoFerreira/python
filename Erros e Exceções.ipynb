{
 "cells": [
  {
   "cell_type": "markdown",
   "id": "746eb536",
   "metadata": {},
   "source": [
    "Erros e Exceções"
   ]
  },
  {
   "cell_type": "code",
   "execution_count": null,
   "id": "8e7a26a1",
   "metadata": {},
   "outputs": [
    {
     "name": "stdout",
     "output_type": "stream",
     "text": [
      "Insira o primeiro numero: s\n",
      "Erro digite um numero!!!\n",
      "Operação Realizada!!!\n"
     ]
    }
   ],
   "source": [
    "while True:\n",
    "    \n",
    "    try:\n",
    "        \n",
    "        x = int(input(\"Insira o primeiro numero: \"))\n",
    "        y = int(input(\"Insira o segundo numero: \"))\n",
    "        soma = x + y\n",
    "        print(soma)\n",
    "   \n",
    "    except:\n",
    "        \n",
    "        print(\"Erro digite um numero!!!\")\n",
    "        continue\n",
    "    else:\n",
    "        break\n",
    "    \n",
    "    finally:\n",
    "        \n",
    "        print(\"Operação Realizada!!!\")  \n",
    "         \n",
    " \n",
    "    "
   ]
  },
  {
   "cell_type": "code",
   "execution_count": null,
   "id": "d4c37110",
   "metadata": {},
   "outputs": [],
   "source": []
  },
  {
   "cell_type": "code",
   "execution_count": null,
   "id": "042c63db",
   "metadata": {},
   "outputs": [],
   "source": []
  },
  {
   "cell_type": "code",
   "execution_count": null,
   "id": "ba7f2281",
   "metadata": {},
   "outputs": [],
   "source": []
  },
  {
   "cell_type": "code",
   "execution_count": null,
   "id": "beffd791",
   "metadata": {},
   "outputs": [],
   "source": []
  },
  {
   "cell_type": "code",
   "execution_count": null,
   "id": "d2fe7e4d",
   "metadata": {},
   "outputs": [],
   "source": []
  },
  {
   "cell_type": "code",
   "execution_count": null,
   "id": "dd6e99a8",
   "metadata": {},
   "outputs": [],
   "source": []
  },
  {
   "cell_type": "code",
   "execution_count": null,
   "id": "257527a4",
   "metadata": {},
   "outputs": [],
   "source": []
  },
  {
   "cell_type": "code",
   "execution_count": null,
   "id": "64d50bb2",
   "metadata": {},
   "outputs": [],
   "source": []
  }
 ],
 "metadata": {
  "kernelspec": {
   "display_name": "Python 3",
   "language": "python",
   "name": "python3"
  },
  "language_info": {
   "codemirror_mode": {
    "name": "ipython",
    "version": 3
   },
   "file_extension": ".py",
   "mimetype": "text/x-python",
   "name": "python",
   "nbconvert_exporter": "python",
   "pygments_lexer": "ipython3",
   "version": "3.8.8"
  }
 },
 "nbformat": 4,
 "nbformat_minor": 5
}
