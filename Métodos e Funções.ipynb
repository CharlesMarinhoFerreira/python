{
 "cells": [
  {
   "cell_type": "markdown",
   "id": "04f305ee",
   "metadata": {},
   "source": [
    "Métodos e Funções"
   ]
  },
  {
   "cell_type": "code",
   "execution_count": 1,
   "id": "385b06f0",
   "metadata": {},
   "outputs": [
    {
     "data": {
      "text/plain": [
       "['__add__',\n",
       " '__class__',\n",
       " '__contains__',\n",
       " '__delattr__',\n",
       " '__delitem__',\n",
       " '__dir__',\n",
       " '__doc__',\n",
       " '__eq__',\n",
       " '__format__',\n",
       " '__ge__',\n",
       " '__getattribute__',\n",
       " '__getitem__',\n",
       " '__gt__',\n",
       " '__hash__',\n",
       " '__iadd__',\n",
       " '__imul__',\n",
       " '__init__',\n",
       " '__init_subclass__',\n",
       " '__iter__',\n",
       " '__le__',\n",
       " '__len__',\n",
       " '__lt__',\n",
       " '__mul__',\n",
       " '__ne__',\n",
       " '__new__',\n",
       " '__reduce__',\n",
       " '__reduce_ex__',\n",
       " '__repr__',\n",
       " '__reversed__',\n",
       " '__rmul__',\n",
       " '__setattr__',\n",
       " '__setitem__',\n",
       " '__sizeof__',\n",
       " '__str__',\n",
       " '__subclasshook__',\n",
       " 'append',\n",
       " 'clear',\n",
       " 'copy',\n",
       " 'count',\n",
       " 'extend',\n",
       " 'index',\n",
       " 'insert',\n",
       " 'pop',\n",
       " 'remove',\n",
       " 'reverse',\n",
       " 'sort']"
      ]
     },
     "execution_count": 1,
     "metadata": {},
     "output_type": "execute_result"
    }
   ],
   "source": [
    "#Métodos são funções prontas para serem executadas\n",
    "lista = [1,2,3]\n",
    "#Método dir (Mostra todos os metodos e atributos da lista no caso abaixo)\n",
    "dir(lista)"
   ]
  },
  {
   "cell_type": "markdown",
   "id": "a253d337",
   "metadata": {},
   "source": [
    "Funções"
   ]
  },
  {
   "cell_type": "code",
   "execution_count": 6,
   "id": "18fe18e4",
   "metadata": {},
   "outputs": [
    {
     "name": "stdout",
     "output_type": "stream",
     "text": [
      "Entre com o primeiro número da multiplicação: 2\n",
      "Entre com o segundo número da multiplicação: 4\n",
      "O resultado da multiplicação: 2 * 4 = 8\n"
     ]
    }
   ],
   "source": [
    "#Criação de uma função def objeto()\n",
    "def multiplicacao(x,y):\n",
    "    c = (x * y)\n",
    "    print('O resultado da multiplicação: %r * %r = %r' %(x,y,c))\n",
    "\n",
    "a = int(input(\"Entre com o primeiro número da multiplicação: \"))\n",
    "b = int(input(\"Entre com o segundo número da multiplicação: \"))\n",
    "\n",
    "multiplicacao(a,b)"
   ]
  },
  {
   "cell_type": "code",
   "execution_count": 7,
   "id": "b8e0906a",
   "metadata": {},
   "outputs": [
    {
     "data": {
      "text/plain": [
       "3"
      ]
     },
     "execution_count": 7,
     "metadata": {},
     "output_type": "execute_result"
    }
   ],
   "source": [
    "#Funções Built-in\n",
    "abs(-3)"
   ]
  },
  {
   "cell_type": "code",
   "execution_count": 9,
   "id": "c7cf5eab",
   "metadata": {},
   "outputs": [
    {
     "data": {
      "text/plain": [
       "False"
      ]
     },
     "execution_count": 9,
     "metadata": {},
     "output_type": "execute_result"
    }
   ],
   "source": [
    "bool(0)"
   ]
  },
  {
   "cell_type": "code",
   "execution_count": 10,
   "id": "accd897d",
   "metadata": {},
   "outputs": [
    {
     "data": {
      "text/plain": [
       "'Charles'"
      ]
     },
     "execution_count": 10,
     "metadata": {},
     "output_type": "execute_result"
    }
   ],
   "source": [
    "#Funções de definição do tipo de dados\n",
    "str(\"Charles\")"
   ]
  },
  {
   "cell_type": "code",
   "execution_count": 11,
   "id": "1329291a",
   "metadata": {},
   "outputs": [
    {
     "data": {
      "text/plain": [
       "2"
      ]
     },
     "execution_count": 11,
     "metadata": {},
     "output_type": "execute_result"
    }
   ],
   "source": [
    "int(2.5)"
   ]
  },
  {
   "cell_type": "code",
   "execution_count": 12,
   "id": "17b43879",
   "metadata": {},
   "outputs": [
    {
     "data": {
      "text/plain": [
       "2.0"
      ]
     },
     "execution_count": 12,
     "metadata": {},
     "output_type": "execute_result"
    }
   ],
   "source": [
    "float(2)"
   ]
  },
  {
   "cell_type": "code",
   "execution_count": 13,
   "id": "38dd1e84",
   "metadata": {},
   "outputs": [
    {
     "data": {
      "text/plain": [
       "12"
      ]
     },
     "execution_count": 13,
     "metadata": {},
     "output_type": "execute_result"
    }
   ],
   "source": [
    "#Função soma\n",
    "lista = [2,4,6]\n",
    "sum(lista)"
   ]
  },
  {
   "cell_type": "code",
   "execution_count": 14,
   "id": "1b2e3ee5",
   "metadata": {},
   "outputs": [
    {
     "name": "stdout",
     "output_type": "stream",
     "text": [
      "['Charles', 'Marinho', 'Ferreira']\n"
     ]
    }
   ],
   "source": [
    "#Método Split (Separa uma string apartir de espaços)\n",
    "nome = \"Charles Marinho Ferreira\"\n",
    "print(nome.split(\" \"))"
   ]
  },
  {
   "cell_type": "code",
   "execution_count": 25,
   "id": "25847703",
   "metadata": {},
   "outputs": [
    {
     "name": "stdout",
     "output_type": "stream",
     "text": [
      "A\n",
      "B\n",
      "C\n",
      "1\n",
      "2\n"
     ]
    }
   ],
   "source": [
    "#Função que utiliza um numero indeterminado de argumentos através do recurso *vartuple\n",
    "\n",
    "def letras(arg, *vartuple):\n",
    "    print(arg)\n",
    "    for item in vartuple:\n",
    "        print(item)\n",
    "    return;    \n",
    "\n",
    "letras('A','B','C')\n",
    "letras(1,2)"
   ]
  },
  {
   "cell_type": "code",
   "execution_count": 21,
   "id": "829b3f7e",
   "metadata": {},
   "outputs": [
    {
     "name": "stdout",
     "output_type": "stream",
     "text": [
      "B\n"
     ]
    }
   ],
   "source": [
    " "
   ]
  },
  {
   "cell_type": "code",
   "execution_count": null,
   "id": "c9ae5349",
   "metadata": {},
   "outputs": [],
   "source": []
  }
 ],
 "metadata": {
  "kernelspec": {
   "display_name": "Python 3",
   "language": "python",
   "name": "python3"
  },
  "language_info": {
   "codemirror_mode": {
    "name": "ipython",
    "version": 3
   },
   "file_extension": ".py",
   "mimetype": "text/x-python",
   "name": "python",
   "nbconvert_exporter": "python",
   "pygments_lexer": "ipython3",
   "version": "3.8.8"
  }
 },
 "nbformat": 4,
 "nbformat_minor": 5
}
