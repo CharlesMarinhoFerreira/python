{
 "cells": [
  {
   "cell_type": "markdown",
   "id": "b54bc349",
   "metadata": {},
   "source": [
    "Função MAP"
   ]
  },
  {
   "cell_type": "code",
   "execution_count": 3,
   "id": "0426c34d",
   "metadata": {},
   "outputs": [
    {
     "name": "stdout",
     "output_type": "stream",
     "text": [
      "4.0\n",
      "4.64\n",
      "8.8\n",
      "13.6\n",
      "17.12\n",
      "20.0\n"
     ]
    }
   ],
   "source": [
    "#Converter um valor de saída em mA para um instrumento com range (0 - 100 Kgf/cm²)\n",
    "\n",
    "pressao = [0,4,30,60,82,100]\n",
    "\n",
    "def converter(x):\n",
    "    return ((4*x)+100)/25\n",
    "    \n",
    "ma = list(map(converter,pressao))\n",
    "\n",
    "for a in ma:\n",
    "    print(a)"
   ]
  },
  {
   "cell_type": "code",
   "execution_count": null,
   "id": "b43c2654",
   "metadata": {},
   "outputs": [],
   "source": []
  }
 ],
 "metadata": {
  "kernelspec": {
   "display_name": "Python 3",
   "language": "python",
   "name": "python3"
  },
  "language_info": {
   "codemirror_mode": {
    "name": "ipython",
    "version": 3
   },
   "file_extension": ".py",
   "mimetype": "text/x-python",
   "name": "python",
   "nbconvert_exporter": "python",
   "pygments_lexer": "ipython3",
   "version": "3.8.8"
  }
 },
 "nbformat": 4,
 "nbformat_minor": 5
}
