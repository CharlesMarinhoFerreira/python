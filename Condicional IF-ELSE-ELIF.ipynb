{
 "cells": [
  {
   "cell_type": "markdown",
   "id": "f0a5b19d",
   "metadata": {},
   "source": [
    "Condicionais IF/ELSE/ELIF"
   ]
  },
  {
   "cell_type": "code",
   "execution_count": 3,
   "id": "5dacdd1e",
   "metadata": {},
   "outputs": [
    {
     "name": "stdout",
     "output_type": "stream",
     "text": [
      "O valor está certo!\n"
     ]
    }
   ],
   "source": [
    "#Condicional IF/ELSE\n",
    "x=0\n",
    "if (x==0):\n",
    "    print(\"O valor está certo!\")\n",
    "else:\n",
    "    print(\"A variável x não é 0\")"
   ]
  },
  {
   "cell_type": "code",
   "execution_count": 4,
   "id": "1e1f8bea",
   "metadata": {},
   "outputs": [
    {
     "name": "stdout",
     "output_type": "stream",
     "text": [
      "Olá Charles\n"
     ]
    }
   ],
   "source": [
    "#Condicional IF/ELSE utilizando operadores lógicos AND\n",
    "anos=32\n",
    "nome=\"Charles\"\n",
    "if (nome==\"Charles\") and (anos==32):\n",
    "    print('Olá Charles')\n",
    "else:\n",
    "    print(\"Você não é o Charles\")"
   ]
  },
  {
   "cell_type": "code",
   "execution_count": null,
   "id": "b2ced60e",
   "metadata": {},
   "outputs": [],
   "source": [
    "#Condicional IF/ELSE utilizando operadores lógicos OR\n",
    "anos=32\n",
    "nome=\"Charles\"\n",
    "if (nome==\"Charles\") or (anos==32):\n",
    "    print('Olá Charles')\n",
    "else:\n",
    "    print(\"Você não é o Charles\")\n",
    "    "
   ]
  },
  {
   "cell_type": "code",
   "execution_count": 5,
   "id": "896eba29",
   "metadata": {},
   "outputs": [
    {
     "name": "stdout",
     "output_type": "stream",
     "text": [
      "Você é o Charles\n"
     ]
    }
   ],
   "source": [
    "#Condicional utilizando ELIF\n",
    "if (anos!=32 and nome==\"Charles\"):\n",
    "    print(\"Não é a idade do Charles\")\n",
    "elif (anos==32 and nome!=\"Charles\"):\n",
    "    print(\"Não é o nome do Charles\")\n",
    "elif (anos==32 and nome==\"Charles\"):\n",
    "    print(\"Você é o Charles\")\n",
    "else:\n",
    "    print(\"Você não é o Charles\")"
   ]
  },
  {
   "cell_type": "code",
   "execution_count": null,
   "id": "d20a62c1",
   "metadata": {},
   "outputs": [],
   "source": []
  }
 ],
 "metadata": {
  "kernelspec": {
   "display_name": "Python 3",
   "language": "python",
   "name": "python3"
  },
  "language_info": {
   "codemirror_mode": {
    "name": "ipython",
    "version": 3
   },
   "file_extension": ".py",
   "mimetype": "text/x-python",
   "name": "python",
   "nbconvert_exporter": "python",
   "pygments_lexer": "ipython3",
   "version": "3.8.8"
  }
 },
 "nbformat": 4,
 "nbformat_minor": 5
}
