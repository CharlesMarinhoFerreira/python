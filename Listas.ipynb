{
 "cells": [
  {
   "cell_type": "markdown",
   "id": "71109dd2",
   "metadata": {},
   "source": [
    "Listas na Linguagem Python"
   ]
  },
  {
   "cell_type": "code",
   "execution_count": null,
   "id": "3a1e2f42",
   "metadata": {},
   "outputs": [],
   "source": [
    "#Criação de uma lista"
   ]
  },
  {
   "cell_type": "code",
   "execution_count": 7,
   "id": "d9b67f8f",
   "metadata": {},
   "outputs": [],
   "source": [
    "listadisciplina = [\"Tubulação\", \"Mecânica\", \"Instrumentação\", \"Civil\", \"Elétrica\", \"Telecom\", \"Segurança\"]\n"
   ]
  },
  {
   "cell_type": "code",
   "execution_count": 9,
   "id": "006f03fc",
   "metadata": {},
   "outputs": [
    {
     "data": {
      "text/plain": [
       "'Instrumentação'"
      ]
     },
     "execution_count": 9,
     "metadata": {},
     "output_type": "execute_result"
    }
   ],
   "source": [
    "listadisciplina[2]\n"
   ]
  },
  {
   "cell_type": "code",
   "execution_count": 10,
   "id": "b52c93ad",
   "metadata": {},
   "outputs": [],
   "source": [
    "#Deletando um item da lista\n",
    "del listadisciplina[3]"
   ]
  },
  {
   "cell_type": "code",
   "execution_count": 12,
   "id": "e21a11e5",
   "metadata": {},
   "outputs": [
    {
     "data": {
      "text/plain": [
       "['Tubulação', 'Mecânica', 'Instrumentação', 'Elétrica', 'Telecom', 'Segurança']"
      ]
     },
     "execution_count": 12,
     "metadata": {},
     "output_type": "execute_result"
    }
   ],
   "source": [
    "listadisciplina"
   ]
  },
  {
   "cell_type": "code",
   "execution_count": 17,
   "id": "c53e62a6",
   "metadata": {},
   "outputs": [
    {
     "data": {
      "text/plain": [
       "[1, 2, 3, 4, 5, 6, 7, 8, 9]"
      ]
     },
     "execution_count": 17,
     "metadata": {},
     "output_type": "execute_result"
    }
   ],
   "source": [
    "#Listas aninhadas - lista dentro de outra lista\n",
    "listaprincipal = [[1,2,3],[4,5,6],[7,8,9]]\n",
    "listaprincipal[0]\n",
    "listaprincipal[0] + listaprincipal[1] + listaprincipal[2]\n"
   ]
  },
  {
   "cell_type": "code",
   "execution_count": 20,
   "id": "e11373fa",
   "metadata": {},
   "outputs": [
    {
     "data": {
      "text/plain": [
       "7"
      ]
     },
     "execution_count": 20,
     "metadata": {},
     "output_type": "execute_result"
    }
   ],
   "source": [
    "#Atribuindo a uma váriavel um item de uma lista dentro de outra lista\n",
    "x = listaprincipal[2][0]\n",
    "x"
   ]
  },
  {
   "cell_type": "code",
   "execution_count": 23,
   "id": "0f43fb84",
   "metadata": {},
   "outputs": [
    {
     "name": "stdout",
     "output_type": "stream",
     "text": [
      "True\n"
     ]
    }
   ],
   "source": [
    "#Vericando se existe um valor dentro de uma lista\n",
    "print('Instrumentação' in listadisciplina)"
   ]
  },
  {
   "cell_type": "code",
   "execution_count": 24,
   "id": "e9a60a35",
   "metadata": {},
   "outputs": [
    {
     "data": {
      "text/plain": [
       "6"
      ]
     },
     "execution_count": 24,
     "metadata": {},
     "output_type": "execute_result"
    }
   ],
   "source": [
    "#Verificado o tamanho de uma lista, ou seja quantidade de itens da lista\n",
    "len(listadisciplina)"
   ]
  },
  {
   "cell_type": "code",
   "execution_count": 25,
   "id": "3e44eda5",
   "metadata": {},
   "outputs": [
    {
     "data": {
      "text/plain": [
       "[7, 8, 9]"
      ]
     },
     "execution_count": 25,
     "metadata": {},
     "output_type": "execute_result"
    }
   ],
   "source": [
    "#Retorna o valor máximo de uma lista\n",
    "max(listaprincipal)"
   ]
  },
  {
   "cell_type": "code",
   "execution_count": 26,
   "id": "8ce3c926",
   "metadata": {},
   "outputs": [
    {
     "data": {
      "text/plain": [
       "'Tubulação'"
      ]
     },
     "execution_count": 26,
     "metadata": {},
     "output_type": "execute_result"
    }
   ],
   "source": [
    "max(listadisciplina)"
   ]
  },
  {
   "cell_type": "code",
   "execution_count": 27,
   "id": "2b984ffa",
   "metadata": {},
   "outputs": [
    {
     "data": {
      "text/plain": [
       "[1, 2, 3]"
      ]
     },
     "execution_count": 27,
     "metadata": {},
     "output_type": "execute_result"
    }
   ],
   "source": [
    "#Retorna o valor minimo de uma lista\n",
    "min(listaprincipal)"
   ]
  },
  {
   "cell_type": "code",
   "execution_count": 28,
   "id": "11edf543",
   "metadata": {},
   "outputs": [
    {
     "data": {
      "text/plain": [
       "'Elétrica'"
      ]
     },
     "execution_count": 28,
     "metadata": {},
     "output_type": "execute_result"
    }
   ],
   "source": [
    "min(listadisciplina)"
   ]
  },
  {
   "cell_type": "code",
   "execution_count": 31,
   "id": "6bbe9090",
   "metadata": {},
   "outputs": [
    {
     "data": {
      "text/plain": [
       "['Tubulação',\n",
       " 'Mecânica',\n",
       " 'Instrumentação',\n",
       " 'Elétrica',\n",
       " 'Telecom',\n",
       " 'Segurança',\n",
       " 'Civil']"
      ]
     },
     "execution_count": 31,
     "metadata": {},
     "output_type": "execute_result"
    }
   ],
   "source": [
    "#Adicionar elementos em uma lista\n",
    "listadisciplina.append(\"Civil\")\n",
    "listadisciplina"
   ]
  },
  {
   "cell_type": "code",
   "execution_count": 32,
   "id": "ca352334",
   "metadata": {},
   "outputs": [
    {
     "data": {
      "text/plain": [
       "1"
      ]
     },
     "execution_count": 32,
     "metadata": {},
     "output_type": "execute_result"
    }
   ],
   "source": [
    "#Informar a quantidade de vezes que aparece um elemento especifico na lista\n",
    "listadisciplina.count(\"Instrumentação\")"
   ]
  },
  {
   "cell_type": "code",
   "execution_count": 33,
   "id": "aba2de5e",
   "metadata": {},
   "outputs": [
    {
     "data": {
      "text/plain": [
       "3"
      ]
     },
     "execution_count": 33,
     "metadata": {},
     "output_type": "execute_result"
    }
   ],
   "source": [
    "#Buscar o índice de um determinado elemento da lista\n",
    "listadisciplina.index(\"Elétrica\")"
   ]
  },
  {
   "cell_type": "code",
   "execution_count": 38,
   "id": "bd65f45e",
   "metadata": {},
   "outputs": [
    {
     "data": {
      "text/plain": [
       "['Tubulação',\n",
       " 'Mecânica',\n",
       " 'Instrumentação',\n",
       " 'Meio Ambiente',\n",
       " 'Elétrica',\n",
       " 'Telecom',\n",
       " 'Segurança',\n",
       " 'Civil']"
      ]
     },
     "execution_count": 38,
     "metadata": {},
     "output_type": "execute_result"
    }
   ],
   "source": [
    "#Inserir um elemento na lista em no indice 3 dessa lista\n",
    "listadisciplina.insert(3,\"Meio Ambiente\")\n",
    "listadisciplina"
   ]
  },
  {
   "cell_type": "code",
   "execution_count": 39,
   "id": "ee0a1d7e",
   "metadata": {},
   "outputs": [
    {
     "data": {
      "text/plain": [
       "['Tubulação',\n",
       " 'Mecânica',\n",
       " 'Instrumentação',\n",
       " 'Elétrica',\n",
       " 'Telecom',\n",
       " 'Segurança',\n",
       " 'Civil']"
      ]
     },
     "execution_count": 39,
     "metadata": {},
     "output_type": "execute_result"
    }
   ],
   "source": [
    "#Remover um item da lista\n",
    "listadisciplina.remove(\"Meio Ambiente\")\n",
    "listadisciplina"
   ]
  },
  {
   "cell_type": "code",
   "execution_count": 40,
   "id": "77445e2a",
   "metadata": {},
   "outputs": [
    {
     "data": {
      "text/plain": [
       "['Tubulação',\n",
       " 'Mecânica',\n",
       " 'Instrumentação',\n",
       " 'Elétrica',\n",
       " 'Telecom',\n",
       " 'Segurança',\n",
       " 'Civil']"
      ]
     },
     "execution_count": 40,
     "metadata": {},
     "output_type": "execute_result"
    }
   ],
   "source": [
    "#Reverter  a ordem da lista\n",
    "listadisciplina.reverse\n",
    "listadisciplina"
   ]
  },
  {
   "cell_type": "code",
   "execution_count": 44,
   "id": "b8583154",
   "metadata": {},
   "outputs": [
    {
     "data": {
      "text/plain": [
       "[[1], [3], [2], [0]]"
      ]
     },
     "execution_count": 44,
     "metadata": {},
     "output_type": "execute_result"
    }
   ],
   "source": [
    "#Ordenar a lista\n",
    "listanumeros = [[1], [3], [2], [0]]\n",
    "listanumeros\n"
   ]
  },
  {
   "cell_type": "code",
   "execution_count": 46,
   "id": "5c8ce6ab",
   "metadata": {},
   "outputs": [
    {
     "data": {
      "text/plain": [
       "[[0], [1], [2], [3]]"
      ]
     },
     "execution_count": 46,
     "metadata": {},
     "output_type": "execute_result"
    }
   ],
   "source": [
    "listanumeros.sort()\n",
    "listanumeros"
   ]
  },
  {
   "cell_type": "code",
   "execution_count": null,
   "id": "528c67b8",
   "metadata": {},
   "outputs": [],
   "source": []
  }
 ],
 "metadata": {
  "kernelspec": {
   "display_name": "Python 3",
   "language": "python",
   "name": "python3"
  },
  "language_info": {
   "codemirror_mode": {
    "name": "ipython",
    "version": 3
   },
   "file_extension": ".py",
   "mimetype": "text/x-python",
   "name": "python",
   "nbconvert_exporter": "python",
   "pygments_lexer": "ipython3",
   "version": "3.8.8"
  }
 },
 "nbformat": 4,
 "nbformat_minor": 5
}
