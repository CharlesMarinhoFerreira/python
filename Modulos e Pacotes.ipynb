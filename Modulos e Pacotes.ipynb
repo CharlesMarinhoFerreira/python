{
 "cells": [
  {
   "cell_type": "markdown",
   "id": "3858ee7f",
   "metadata": {},
   "source": [
    "Modulos"
   ]
  },
  {
   "cell_type": "code",
   "execution_count": 2,
   "id": "04a54921",
   "metadata": {},
   "outputs": [
    {
     "data": {
      "text/plain": [
       "['__doc__',\n",
       " '__loader__',\n",
       " '__name__',\n",
       " '__package__',\n",
       " '__spec__',\n",
       " 'acos',\n",
       " 'acosh',\n",
       " 'asin',\n",
       " 'asinh',\n",
       " 'atan',\n",
       " 'atan2',\n",
       " 'atanh',\n",
       " 'ceil',\n",
       " 'comb',\n",
       " 'copysign',\n",
       " 'cos',\n",
       " 'cosh',\n",
       " 'degrees',\n",
       " 'dist',\n",
       " 'e',\n",
       " 'erf',\n",
       " 'erfc',\n",
       " 'exp',\n",
       " 'expm1',\n",
       " 'fabs',\n",
       " 'factorial',\n",
       " 'floor',\n",
       " 'fmod',\n",
       " 'frexp',\n",
       " 'fsum',\n",
       " 'gamma',\n",
       " 'gcd',\n",
       " 'hypot',\n",
       " 'inf',\n",
       " 'isclose',\n",
       " 'isfinite',\n",
       " 'isinf',\n",
       " 'isnan',\n",
       " 'isqrt',\n",
       " 'ldexp',\n",
       " 'lgamma',\n",
       " 'log',\n",
       " 'log10',\n",
       " 'log1p',\n",
       " 'log2',\n",
       " 'modf',\n",
       " 'nan',\n",
       " 'perm',\n",
       " 'pi',\n",
       " 'pow',\n",
       " 'prod',\n",
       " 'radians',\n",
       " 'remainder',\n",
       " 'sin',\n",
       " 'sinh',\n",
       " 'sqrt',\n",
       " 'tan',\n",
       " 'tanh',\n",
       " 'tau',\n",
       " 'trunc']"
      ]
     },
     "execution_count": 2,
     "metadata": {},
     "output_type": "execute_result"
    }
   ],
   "source": [
    "#Importar o modulo MATH (Operações Matemáticas)\n",
    "import math\n",
    "\n",
    "dir(math)\n"
   ]
  },
  {
   "cell_type": "code",
   "execution_count": 3,
   "id": "bcb920ab",
   "metadata": {},
   "outputs": [
    {
     "data": {
      "text/plain": [
       "7.0"
      ]
     },
     "execution_count": 3,
     "metadata": {},
     "output_type": "execute_result"
    }
   ],
   "source": [
    "#Raiz Quadrada\n",
    "math.sqrt(49)"
   ]
  },
  {
   "cell_type": "code",
   "execution_count": 5,
   "id": "dbbda347",
   "metadata": {},
   "outputs": [
    {
     "name": "stdout",
     "output_type": "stream",
     "text": [
      "Help on built-in function sqrt in module math:\n",
      "\n",
      "sqrt(x, /)\n",
      "    Return the square root of x.\n",
      "\n"
     ]
    }
   ],
   "source": [
    "#Importa o metodo sqrt do modulo math\n",
    "from math import sqrt\n",
    "\n",
    "#Ajuda de uma determinado metodo\n",
    "help(sqrt)"
   ]
  },
  {
   "cell_type": "code",
   "execution_count": 8,
   "id": "5fe2b62f",
   "metadata": {},
   "outputs": [
    {
     "data": {
      "text/plain": [
       "[80, 22, 75, 87, 48]"
      ]
     },
     "execution_count": 8,
     "metadata": {},
     "output_type": "execute_result"
    }
   ],
   "source": [
    "#Importar o modulo para gerar valores randomicos random\n",
    "import random\n",
    "\n",
    "#Metodo choice busca um numero aleatorio da lista abaixo\n",
    "random.choice([1,2,3,4,5,6,7,8,9,0])\n",
    "\n",
    "#Metodo sample mostra uma amostra de um conjunto de dados\n",
    "random.sample(range(100),5)"
   ]
  },
  {
   "cell_type": "code",
   "execution_count": 17,
   "id": "333ae0b3",
   "metadata": {},
   "outputs": [
    {
     "data": {
      "text/plain": [
       "2"
      ]
     },
     "execution_count": 17,
     "metadata": {},
     "output_type": "execute_result"
    }
   ],
   "source": [
    "#Importar o modulo de estatistica\n",
    "import statistics\n",
    "numeros = [1,1,2,2,3,4,5,6,2]\n",
    "\n",
    "#Operação de Médiana\n",
    "statistics.median(numeros)"
   ]
  },
  {
   "cell_type": "code",
   "execution_count": 18,
   "id": "48d01534",
   "metadata": {},
   "outputs": [
    {
     "data": {
      "text/plain": [
       "2.888888888888889"
      ]
     },
     "execution_count": 18,
     "metadata": {},
     "output_type": "execute_result"
    }
   ],
   "source": [
    "#Operação de Média\n",
    "statistics.mean(numeros)"
   ]
  },
  {
   "cell_type": "code",
   "execution_count": null,
   "id": "e172035d",
   "metadata": {},
   "outputs": [],
   "source": [
    "#Operação de Moda\n",
    "statistics.mode(numeros)\n"
   ]
  },
  {
   "cell_type": "code",
   "execution_count": 20,
   "id": "406dd342",
   "metadata": {},
   "outputs": [
    {
     "data": {
      "text/plain": [
       "'C:\\\\Charles\\\\Cursos\\\\Linguagem Python\\\\Cap04\\\\Notebooks'"
      ]
     },
     "execution_count": 20,
     "metadata": {},
     "output_type": "execute_result"
    }
   ],
   "source": [
    "#Importar o pacote para trabalhar o sistema operacional\n",
    "import os\n",
    "\n",
    "#Mostra em qual diretorio estou no momento\n",
    "os.getcwd()"
   ]
  },
  {
   "cell_type": "code",
   "execution_count": null,
   "id": "1d32c5eb",
   "metadata": {},
   "outputs": [],
   "source": []
  }
 ],
 "metadata": {
  "kernelspec": {
   "display_name": "Python 3",
   "language": "python",
   "name": "python3"
  },
  "language_info": {
   "codemirror_mode": {
    "name": "ipython",
    "version": 3
   },
   "file_extension": ".py",
   "mimetype": "text/x-python",
   "name": "python",
   "nbconvert_exporter": "python",
   "pygments_lexer": "ipython3",
   "version": "3.8.8"
  }
 },
 "nbformat": 4,
 "nbformat_minor": 5
}
