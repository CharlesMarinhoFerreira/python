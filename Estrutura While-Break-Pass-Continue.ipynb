{
 "cells": [
  {
   "cell_type": "markdown",
   "id": "4ab0bb45",
   "metadata": {},
   "source": [
    "Estrutura WHILE-PASS-BREAK-CONTINUE"
   ]
  },
  {
   "cell_type": "code",
   "execution_count": 2,
   "id": "4c85f64f",
   "metadata": {},
   "outputs": [
    {
     "name": "stdout",
     "output_type": "stream",
     "text": [
      "X é:  0\n",
      "X é:  1\n",
      "X é:  2\n",
      "X é:  3\n",
      "X é:  4\n",
      "X é:  5\n",
      "X é:  6\n",
      "X é:  7\n",
      "X é:  8\n",
      "X é:  9\n"
     ]
    }
   ],
   "source": [
    "#Estrutura While\n",
    "x = 0\n",
    "\n",
    "while x<10:\n",
    "    print(\"X é: \",x)\n",
    "    x += 1"
   ]
  },
  {
   "cell_type": "code",
   "execution_count": 4,
   "id": "5012818f",
   "metadata": {},
   "outputs": [
    {
     "name": "stdout",
     "output_type": "stream",
     "text": [
      "2\n",
      "4\n",
      "6\n",
      "8\n",
      "10\n",
      "12\n",
      "14\n",
      "16\n",
      "18\n"
     ]
    }
   ],
   "source": [
    "#Utilizando os recursos Break (Interronpe o processo While), Pass(Continua o processo do While)\n",
    "y = 0\n",
    "\n",
    "while y<20:\n",
    "    if y==18:\n",
    "        break\n",
    "    else:\n",
    "        pass\n",
    "        y += 2\n",
    "        print(y)"
   ]
  },
  {
   "cell_type": "code",
   "execution_count": 6,
   "id": "7e67c3dd",
   "metadata": {},
   "outputs": [
    {
     "name": "stdout",
     "output_type": "stream",
     "text": [
      "C\n",
      "h\n",
      "a\n",
      "r\n",
      "e\n",
      "s\n"
     ]
    }
   ],
   "source": [
    "#Utilizar o recurso CONTINUE (Pula o loop naquele momento)\n",
    "\n",
    "for w in \"Charles\":\n",
    "    if w==\"l\":\n",
    "        continue\n",
    "    else:\n",
    "        print(w)\n",
    "\n"
   ]
  },
  {
   "cell_type": "code",
   "execution_count": null,
   "id": "f7572952",
   "metadata": {},
   "outputs": [],
   "source": []
  }
 ],
 "metadata": {
  "kernelspec": {
   "display_name": "Python 3",
   "language": "python",
   "name": "python3"
  },
  "language_info": {
   "codemirror_mode": {
    "name": "ipython",
    "version": 3
   },
   "file_extension": ".py",
   "mimetype": "text/x-python",
   "name": "python",
   "nbconvert_exporter": "python",
   "pygments_lexer": "ipython3",
   "version": "3.8.8"
  }
 },
 "nbformat": 4,
 "nbformat_minor": 5
}
