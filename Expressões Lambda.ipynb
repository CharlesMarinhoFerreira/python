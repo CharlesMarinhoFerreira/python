{
 "cells": [
  {
   "cell_type": "markdown",
   "id": "a9b11e14",
   "metadata": {},
   "source": [
    "Expressões Lambda (Expressões com apenas uma linha de código para executar uma determina ação"
   ]
  },
  {
   "cell_type": "code",
   "execution_count": 6,
   "id": "f2beb332",
   "metadata": {},
   "outputs": [
    {
     "data": {
      "text/plain": [
       "4"
      ]
     },
     "execution_count": 6,
     "metadata": {},
     "output_type": "execute_result"
    }
   ],
   "source": [
    "#Diferença da criação de uma função DEF e Lambda\n",
    "\n",
    "#Função def\n",
    "def potencia(x):\n",
    "    a = x**2\n",
    "    return a\n",
    "potencia(2)"
   ]
  },
  {
   "cell_type": "code",
   "execution_count": 7,
   "id": "ca2712d0",
   "metadata": {},
   "outputs": [
    {
     "data": {
      "text/plain": [
       "4"
      ]
     },
     "execution_count": 7,
     "metadata": {},
     "output_type": "execute_result"
    }
   ],
   "source": [
    "#Expessão Lambda - Não precisa nomear a expressão com a função DEF\n",
    "numeroElevado = lambda y: y**2\n",
    "numeroElevado(2)"
   ]
  },
  {
   "cell_type": "code",
   "execution_count": null,
   "id": "005790c6",
   "metadata": {},
   "outputs": [],
   "source": []
  }
 ],
 "metadata": {
  "kernelspec": {
   "display_name": "Python 3",
   "language": "python",
   "name": "python3"
  },
  "language_info": {
   "codemirror_mode": {
    "name": "ipython",
    "version": 3
   },
   "file_extension": ".py",
   "mimetype": "text/x-python",
   "name": "python",
   "nbconvert_exporter": "python",
   "pygments_lexer": "ipython3",
   "version": "3.8.8"
  }
 },
 "nbformat": 4,
 "nbformat_minor": 5
}
