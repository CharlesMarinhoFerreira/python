{
 "cells": [
  {
   "cell_type": "markdown",
   "id": "e8997521",
   "metadata": {},
   "source": [
    "Operação com Números e Operações Relacionais"
   ]
  },
  {
   "cell_type": "markdown",
   "id": "005f2b46",
   "metadata": {},
   "source": [
    "Operações Númericas"
   ]
  },
  {
   "cell_type": "code",
   "execution_count": null,
   "id": "98d7b23c",
   "metadata": {},
   "outputs": [],
   "source": [
    "#Adição\n",
    "1 + 1\n"
   ]
  },
  {
   "cell_type": "code",
   "execution_count": 2,
   "id": "14e1c950",
   "metadata": {},
   "outputs": [
    {
     "data": {
      "text/plain": [
       "0"
      ]
     },
     "execution_count": 2,
     "metadata": {},
     "output_type": "execute_result"
    }
   ],
   "source": [
    "#Subtração\n",
    "1 -1 "
   ]
  },
  {
   "cell_type": "code",
   "execution_count": 3,
   "id": "3064ffe1",
   "metadata": {},
   "outputs": [
    {
     "data": {
      "text/plain": [
       "1.0"
      ]
     },
     "execution_count": 3,
     "metadata": {},
     "output_type": "execute_result"
    }
   ],
   "source": [
    "#Divisão\n",
    "2 / 2"
   ]
  },
  {
   "cell_type": "code",
   "execution_count": 4,
   "id": "90cfccb7",
   "metadata": {},
   "outputs": [
    {
     "data": {
      "text/plain": [
       "9"
      ]
     },
     "execution_count": 4,
     "metadata": {},
     "output_type": "execute_result"
    }
   ],
   "source": [
    "#Multiplicação\n",
    "3*3"
   ]
  },
  {
   "cell_type": "code",
   "execution_count": 5,
   "id": "ae07d492",
   "metadata": {},
   "outputs": [
    {
     "data": {
      "text/plain": [
       "27"
      ]
     },
     "execution_count": 5,
     "metadata": {},
     "output_type": "execute_result"
    }
   ],
   "source": [
    "#Potência\n",
    "3**3"
   ]
  },
  {
   "cell_type": "code",
   "execution_count": 6,
   "id": "b47b6726",
   "metadata": {},
   "outputs": [
    {
     "data": {
      "text/plain": [
       "2.0"
      ]
     },
     "execution_count": 6,
     "metadata": {},
     "output_type": "execute_result"
    }
   ],
   "source": [
    "#Transformar número inteiro para decimal\n",
    "float(2)"
   ]
  },
  {
   "cell_type": "code",
   "execution_count": 7,
   "id": "82e3452c",
   "metadata": {},
   "outputs": [
    {
     "data": {
      "text/plain": [
       "3"
      ]
     },
     "execution_count": 7,
     "metadata": {},
     "output_type": "execute_result"
    }
   ],
   "source": [
    "#Transformar número decimal para inteiro\n",
    "int(3.2)"
   ]
  },
  {
   "cell_type": "code",
   "execution_count": 10,
   "id": "af6c7f12",
   "metadata": {},
   "outputs": [
    {
     "data": {
      "text/plain": [
       "5"
      ]
     },
     "execution_count": 10,
     "metadata": {},
     "output_type": "execute_result"
    }
   ],
   "source": [
    "#Modulo\n",
    "5 % 12\n"
   ]
  },
  {
   "cell_type": "markdown",
   "id": "ace920c4",
   "metadata": {},
   "source": [
    "Operações Relacionais"
   ]
  },
  {
   "cell_type": "code",
   "execution_count": 11,
   "id": "d8545b2a",
   "metadata": {},
   "outputs": [
    {
     "data": {
      "text/plain": [
       "True"
      ]
     },
     "execution_count": 11,
     "metadata": {},
     "output_type": "execute_result"
    }
   ],
   "source": [
    "#Maior que\n",
    "3>2"
   ]
  },
  {
   "cell_type": "code",
   "execution_count": 12,
   "id": "b65bdf4d",
   "metadata": {},
   "outputs": [
    {
     "data": {
      "text/plain": [
       "False"
      ]
     },
     "execution_count": 12,
     "metadata": {},
     "output_type": "execute_result"
    }
   ],
   "source": [
    "#Menor que\n",
    "3<2"
   ]
  },
  {
   "cell_type": "code",
   "execution_count": 13,
   "id": "8c4fc131",
   "metadata": {},
   "outputs": [
    {
     "data": {
      "text/plain": [
       "True"
      ]
     },
     "execution_count": 13,
     "metadata": {},
     "output_type": "execute_result"
    }
   ],
   "source": [
    "#Maior ou igual\n",
    "3>=2"
   ]
  },
  {
   "cell_type": "code",
   "execution_count": 14,
   "id": "d29fbe54",
   "metadata": {},
   "outputs": [
    {
     "data": {
      "text/plain": [
       "False"
      ]
     },
     "execution_count": 14,
     "metadata": {},
     "output_type": "execute_result"
    }
   ],
   "source": [
    "#Menor ou igual\n",
    "3<=2"
   ]
  },
  {
   "cell_type": "code",
   "execution_count": 16,
   "id": "4a1138de",
   "metadata": {},
   "outputs": [
    {
     "data": {
      "text/plain": [
       "True"
      ]
     },
     "execution_count": 16,
     "metadata": {},
     "output_type": "execute_result"
    }
   ],
   "source": [
    "#Igualdade\n",
    "3==3\n"
   ]
  },
  {
   "cell_type": "code",
   "execution_count": 17,
   "id": "7ba6f94e",
   "metadata": {},
   "outputs": [
    {
     "data": {
      "text/plain": [
       "False"
      ]
     },
     "execution_count": 17,
     "metadata": {},
     "output_type": "execute_result"
    }
   ],
   "source": [
    "#Desigualdade\n",
    "3!=3"
   ]
  },
  {
   "cell_type": "code",
   "execution_count": null,
   "id": "15c6cdff",
   "metadata": {},
   "outputs": [],
   "source": []
  }
 ],
 "metadata": {
  "kernelspec": {
   "display_name": "Python 3",
   "language": "python",
   "name": "python3"
  },
  "language_info": {
   "codemirror_mode": {
    "name": "ipython",
    "version": 3
   },
   "file_extension": ".py",
   "mimetype": "text/x-python",
   "name": "python",
   "nbconvert_exporter": "python",
   "pygments_lexer": "ipython3",
   "version": "3.8.8"
  }
 },
 "nbformat": 4,
 "nbformat_minor": 5
}
